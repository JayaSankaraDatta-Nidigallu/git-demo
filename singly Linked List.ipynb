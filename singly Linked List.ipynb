{
 "cells": [
  {
   "cell_type": "markdown",
   "metadata": {},
   "source": [
    "# Linked list\n",
    "It is a liner collection of data elements whose order is not given by physical memory.Each elemnts points to other elments.\n",
    "It is a data structure with collection of the nodes to from a sequence."
   ]
  },
  {
   "cell_type": "code",
   "execution_count": 40,
   "metadata": {},
   "outputs": [],
   "source": [
    "class Node:#class for each node\n",
    "    def __init__(self,num):#each node consists of data and link to next node in the sequence\n",
    "        self.data=num\n",
    "        self.next=None"
   ]
  },
  {
   "cell_type": "code",
   "execution_count": 41,
   "metadata": {},
   "outputs": [],
   "source": [
    "node1=Node(0)#creating nodes and assigning values\n",
    "node2=Node(1)\n",
    "node3=Node(2)\n",
    "node4=Node(8)"
   ]
  },
  {
   "cell_type": "code",
   "execution_count": 42,
   "metadata": {},
   "outputs": [
    {
     "output_type": "execute_result",
     "data": {
      "text/plain": [
       "(<__main__.Node at 0x25549bf8ee0>,\n",
       " <__main__.Node at 0x25549b9fd00>,\n",
       " <__main__.Node at 0x25549bf8850>,\n",
       " <__main__.Node at 0x25549bf8100>)"
      ]
     },
     "metadata": {},
     "execution_count": 42
    }
   ],
   "source": [
    "node1,node2,node3,node4"
   ]
  },
  {
   "cell_type": "code",
   "execution_count": 43,
   "metadata": {},
   "outputs": [
    {
     "output_type": "execute_result",
     "data": {
      "text/plain": [
       "(0, 1, 2, 8)"
      ]
     },
     "metadata": {},
     "execution_count": 43
    }
   ],
   "source": [
    "node1.data,node2.data,node3.data,node4.data"
   ]
  },
  {
   "cell_type": "code",
   "execution_count": 44,
   "metadata": {},
   "outputs": [],
   "source": [
    "#creating the linked list class\n",
    "class LinkedList:\n",
    "    def __init__(self):\n",
    "        self.head=None\n",
    "        "
   ]
  },
  {
   "cell_type": "code",
   "execution_count": 45,
   "metadata": {},
   "outputs": [],
   "source": [
    "#creating the linked list by attching each node\n",
    "list1=LinkedList()\n",
    "list1.head=Node(0)\n",
    "list1.head.next=Node(1)\n",
    "list1.head.next.next=Node(2)\n",
    "list1.head.next.next.next=Node(3)"
   ]
  },
  {
   "cell_type": "code",
   "execution_count": 46,
   "metadata": {},
   "outputs": [
    {
     "output_type": "execute_result",
     "data": {
      "text/plain": [
       "(0, 1, 2, 3)"
      ]
     },
     "metadata": {},
     "execution_count": 46
    }
   ],
   "source": [
    "list1.head.data, list1.head.next.data, list1.head.next.next.data, list1.head.next.next.next.data"
   ]
  },
  {
   "cell_type": "code",
   "execution_count": 47,
   "metadata": {},
   "outputs": [],
   "source": [
    "\"\"\"adding the attributes append,update,find,index,length,show_elements,reverse\"\"\"\n",
    "class LinkedList:\n",
    "    def __init__(self):\n",
    "        self.head=None\n",
    "        \n",
    "    def push(self,value):\n",
    "        \"\"\"Adds the data at the begining of the linked list\n",
    "        Time complixity: O(1) \"\"\"\n",
    "        new_node=Node(value)#making the new node\n",
    "        new_node.next=self.head#mmaking new node as head node\n",
    "        self.head=new_node#moving the previuos head node to point next node\n",
    "        \n",
    "    def append(self,value):\n",
    "        '''adds the given element in the linked list\n",
    "        Time complixity: O(n) \n",
    "        n is length of linked list[since we need to make n iterations to add at end of list]'''\n",
    "        if self.head is None:#checking node if node is empty then adding value at that node\n",
    "            self.head=Node(value)\n",
    "        else:\n",
    "            current_node=self.head\n",
    "            while current_node.next:\n",
    "                current_node=current_node.next#finding that which node is empty to add value in the linked list\n",
    "            #after finding empty node assing the value at that node\n",
    "            current_node.next=Node(value)\n",
    "        \n",
    "    def insert(self,pos,value):\n",
    "        \"\"\"Inserts the node at given position\n",
    "        Time complixity: O(pos) \n",
    "        worst complixity:O(n)\"\"\"\n",
    "        current_node,prev_node=self.head,None\n",
    "        i=0\n",
    "        \n",
    "        if pos==i:#if we need to insert at head node\n",
    "            new_node=Node(value)#creating new node\n",
    "            new_node.next=self.head#making new node as head node\n",
    "            self.head=new_node\n",
    "            return\n",
    "        \n",
    "        while current_node:\n",
    "            if i==pos:\n",
    "                new_node=Node(value)#creating new node\n",
    "                new_node.next=current_node#making the node point to cuurent node\n",
    "                prev_node.next=new_node#making previous node to point new node\n",
    "                return\n",
    "            #upadating count prev node and cuurent node\n",
    "            i+=1\n",
    "            prev_node=current_node\n",
    "            current_node=current_node.next\n",
    "        \n",
    "        return\n",
    "            \n",
    "    def show_elements(self):\n",
    "        '''prints all elements present in the linked list\n",
    "        Time complexitiy: O(n)'''\n",
    "        current=self.head#taking first node\n",
    "        while current is not None:#check the current node is empty or not\n",
    "            print(f\"{current.data}->\",end='')#printing the value at the node \n",
    "            current=current.next#updating the cuurent  \n",
    "    \n",
    "    def length(self):\n",
    "        count=0#counter to count each element\n",
    "        current=self.head#first node\n",
    "        while current is not None:#iterating through each node until None object encounters\n",
    "            count+=1#increment counter for each iteration\n",
    "            current=current.next#updating current position of node\n",
    "        return count#retuning length\n",
    "    \n",
    "    def find(self,pos):\n",
    "        '''To find the element in the given node position of linked list.\n",
    "        Time complexitiy: O(n)'''\n",
    "        i=0\n",
    "        current=self.head\n",
    "        if pos>=self.length():#if given pos is not in list raise an error\n",
    "            raise IndexError(\"Index Out of range\")\n",
    "        \n",
    "        while current:# iterating  through to each node\n",
    "            if i==pos:#checking given position with current position(i) \n",
    "                return current.data\n",
    "            \n",
    "            current=current.next#updating the position of node\n",
    "            i+=1\n",
    "        return current.data\n",
    "    \n",
    "    def index(self,value):\n",
    "        \"\"\"To find the node position of given value in the list and if value is not present in linked list returns -1.\n",
    "        Time complexitiy: O(n)\"\"\"\n",
    "        i=0\n",
    "        current=self.head\n",
    "                \n",
    "        while current is not None:# iterating  through to each node\n",
    "            if current.data==value:#checking the given value present is present or not \n",
    "                return i#retuning position(i) of value\n",
    "            \n",
    "            current=current.next#updating the position of node\n",
    "            i+=1\n",
    "            \n",
    "        return -1 #if value is not present in the given linked list returns -1\n",
    "        \n",
    "    def update(self,pos,value):\n",
    "        \"\"\"Updating the value at the given node position with in the legth of the linked list.\n",
    "        Time complexitiy: O(n)\"\"\"\n",
    "        i=0\n",
    "        current=self.head\n",
    "        while current is not None:\n",
    "            if i==pos:\n",
    "                current.data=value\n",
    "            \n",
    "            current=current.next\n",
    "            i+=1\n",
    "    \n",
    "    def reverse(self):\n",
    "        \"\"\"Reverse the given linked list\n",
    "        Time complexitiy: O(n)\"\"\"\n",
    "        if self.head==None:# if linked list is empty return empty linked list\n",
    "            return\n",
    "        current_node=self.head\n",
    "        prev_node=None\n",
    "        while current_node is not None:# iterating  through to each node\n",
    "            next_node=current_node.next#tracking next node\n",
    "            #modifying the current node\n",
    "            current_node.next=prev_node\n",
    "            #upadting previous and current node\n",
    "            prev_node=current_node\n",
    "            current_node=next_node\n",
    "            \n",
    "        self.head=prev_node#making the last node as head node\n",
    "        \n",
    "    def remove(self,key):\n",
    "        \"\"\"Removes the given key from linked list\"\"\"\n",
    "        current_node,prev_node=self.head,None\n",
    "        \n",
    "        if current_node is None :#check if head node is none the list is empty \n",
    "            return (\"linked ist is empty\")\n",
    "            \n",
    "        while current_node:\n",
    "            if key==current_node.data:# checking the each node data is equal to give key if it;s equal break the loop\n",
    "                break\n",
    "            # if key  is not equal to current node data update current node and keep track of prev node\n",
    "            prev_node,current_node=current_node,current_node.next\n",
    "        \n",
    "        if current_node is None:#checking the given key is present in the linked list or not\n",
    "            #if current node is none means that we came to end of the linked list\n",
    "            return (\"key is not present in the linked list\")\n",
    "            \n",
    "        #unlinking the current node from linked list by updating prev_node next to current node next\n",
    "        prev_node.next=current_node.next\n",
    "        \n",
    "        return current_node.data#returning the key\n",
    "    \n",
    "    def swapNodes(self,X,Y):\n",
    "        \"\"\"Swaping the nodes address without the swapping the data\n",
    "        we need to consider the foolowing cases before swapping the nodes\n",
    "        1.x and y may or may not be adjacent\n",
    "        2.either x and y may be head node\n",
    "        3.either x or y may be last node\n",
    "        4.x and/or y my not be present in the linked list     \n",
    "        5.if both x and y are same value can not be swapped.\"\"\"\n",
    "        #if x==y then don't swap\n",
    "        if(X==Y):\n",
    "            return\n",
    "        curX,curY,prevX,prevY=self.head,self.head,None,None\n",
    "        #find current node and prev node of x and y\n",
    "        \n",
    "        #search for x and keep track of current and prev node\n",
    "        while(curX and curX.data!=X):\n",
    "            prevX=curX;\n",
    "            curX=curX.next;\n",
    "            \n",
    "        #search for y and keep track of current and prev node\n",
    "        while(curY and curY.data!=Y):\n",
    "            prevY=curY\n",
    "            curY=curY.next\n",
    "            \n",
    "        #checking the elements x or y is present or not   \n",
    "        if(curX==None or curY==None):#if any one is none it came to end of the linked list\n",
    "            return\n",
    "        \n",
    "        #if x is not head of list the prevX is not null \n",
    "        if(prevX!=None):\n",
    "            prevX.next=curY\n",
    "        else:\n",
    "            self.head=curY\n",
    "        \n",
    "        #if y is not head of list the prevY is not null \n",
    "        if(prevY!=None):\n",
    "            prevY.next=curX\n",
    "        else:\n",
    "            self.head=curX\n",
    "        \n",
    "        #swapping pointers\n",
    "        temp=curY.next\n",
    "        curY.next=curX.next\n",
    "        curX.next=temp\n",
    "        \n",
    "    def iter_item(self):\n",
    "        \"\"\"genearates the iterator object\"\"\"\n",
    "        current_node=self.head\n",
    "        while current_node:\n",
    "            val=current_node.data\n",
    "            current_node=current_node.next\n",
    "            yield val\n",
    "        "
   ]
  },
  {
   "cell_type": "code",
   "execution_count": 48,
   "metadata": {},
   "outputs": [
    {
     "output_type": "stream",
     "name": "stdout",
     "text": [
      "['__class__', '__delattr__', '__dict__', '__dir__', '__doc__', '__eq__', '__format__', '__ge__', '__getattribute__', '__gt__', '__hash__', '__init__', '__init_subclass__', '__le__', '__lt__', '__module__', '__ne__', '__new__', '__reduce__', '__reduce_ex__', '__repr__', '__setattr__', '__sizeof__', '__str__', '__subclasshook__', '__weakref__', 'append', 'find', 'index', 'insert', 'iter_item', 'length', 'push', 'remove', 'reverse', 'show_elements', 'swapNodes', 'update']\n"
     ]
    }
   ],
   "source": [
    "print(dir(LinkedList))"
   ]
  },
  {
   "cell_type": "code",
   "execution_count": 49,
   "metadata": {},
   "outputs": [],
   "source": [
    "list2=LinkedList()\n",
    "N1=Node(20)\n",
    "list2.head=N1\n",
    "list2.append(30)\n",
    "list2.append(40)"
   ]
  },
  {
   "cell_type": "code",
   "execution_count": 50,
   "metadata": {},
   "outputs": [
    {
     "output_type": "execute_result",
     "data": {
      "text/plain": [
       "(20, 30)"
      ]
     },
     "metadata": {},
     "execution_count": 50
    }
   ],
   "source": [
    "list2.head.data,list2.head.next.data"
   ]
  },
  {
   "cell_type": "code",
   "execution_count": 51,
   "metadata": {},
   "outputs": [],
   "source": [
    "list2.append(50)\n",
    "list2.append(60)\n",
    "list2.append(70)\n",
    "list2.append(80)\n",
    "list2.append(90)\n",
    "list2.append(100)\n",
    "list2.append(110)\n",
    "list2.push(10)"
   ]
  },
  {
   "cell_type": "code",
   "execution_count": 52,
   "metadata": {},
   "outputs": [
    {
     "output_type": "stream",
     "name": "stdout",
     "text": [
      "10->20->30->40->50->60->70->80->90->100->110->"
     ]
    }
   ],
   "source": [
    "list2.show_elements()"
   ]
  },
  {
   "cell_type": "code",
   "execution_count": 53,
   "metadata": {},
   "outputs": [
    {
     "output_type": "execute_result",
     "data": {
      "text/plain": [
       "11"
      ]
     },
     "metadata": {},
     "execution_count": 53
    }
   ],
   "source": [
    "list2.length()"
   ]
  },
  {
   "cell_type": "code",
   "execution_count": 54,
   "metadata": {},
   "outputs": [
    {
     "output_type": "execute_result",
     "data": {
      "text/plain": [
       "(10, 50, 80)"
      ]
     },
     "metadata": {},
     "execution_count": 54
    }
   ],
   "source": [
    "list2.find(0),list2.find(4),list2.find(7)"
   ]
  },
  {
   "cell_type": "code",
   "execution_count": 55,
   "metadata": {},
   "outputs": [
    {
     "output_type": "execute_result",
     "data": {
      "text/plain": [
       "(0, -1, 7)"
      ]
     },
     "metadata": {},
     "execution_count": 55
    }
   ],
   "source": [
    "list2.index(10),list2.index(500),list2.index(80)"
   ]
  },
  {
   "cell_type": "code",
   "execution_count": 56,
   "metadata": {},
   "outputs": [
    {
     "output_type": "execute_result",
     "data": {
      "text/plain": [
       "60"
      ]
     },
     "metadata": {},
     "execution_count": 56
    }
   ],
   "source": [
    "list2.remove(60)"
   ]
  },
  {
   "cell_type": "code",
   "execution_count": 57,
   "metadata": {},
   "outputs": [
    {
     "output_type": "stream",
     "name": "stdout",
     "text": [
      "10->20->30->40->50->70->80->90->100->110->"
     ]
    }
   ],
   "source": [
    "list2.show_elements()"
   ]
  },
  {
   "cell_type": "code",
   "execution_count": 58,
   "metadata": {},
   "outputs": [
    {
     "output_type": "stream",
     "name": "stdout",
     "text": [
      "10->20->30->40->50->70->80->90->100->"
     ]
    },
    {
     "output_type": "error",
     "ename": "AttributeError",
     "evalue": "'NoneType' object has no attribute 'next'",
     "traceback": [
      "\u001b[1;31m---------------------------------------------------------------------------\u001b[0m",
      "\u001b[1;31mAttributeError\u001b[0m                            Traceback (most recent call last)",
      "\u001b[1;32m<ipython-input-58-12c4772d39b3>\u001b[0m in \u001b[0;36m<module>\u001b[1;34m\u001b[0m\n\u001b[0;32m      1\u001b[0m \u001b[0mlist2\u001b[0m\u001b[1;33m.\u001b[0m\u001b[0mremove\u001b[0m\u001b[1;33m(\u001b[0m\u001b[1;36m110\u001b[0m\u001b[1;33m)\u001b[0m\u001b[1;33m\u001b[0m\u001b[1;33m\u001b[0m\u001b[0m\n\u001b[0;32m      2\u001b[0m \u001b[0mlist2\u001b[0m\u001b[1;33m.\u001b[0m\u001b[0mshow_elements\u001b[0m\u001b[1;33m(\u001b[0m\u001b[1;33m)\u001b[0m\u001b[1;33m\u001b[0m\u001b[1;33m\u001b[0m\u001b[0m\n\u001b[1;32m----> 3\u001b[1;33m \u001b[0mlist2\u001b[0m\u001b[1;33m.\u001b[0m\u001b[0mremove\u001b[0m\u001b[1;33m(\u001b[0m\u001b[1;36m10\u001b[0m\u001b[1;33m)\u001b[0m\u001b[1;33m\u001b[0m\u001b[1;33m\u001b[0m\u001b[0m\n\u001b[0m\u001b[0;32m      4\u001b[0m \u001b[0mlist2\u001b[0m\u001b[1;33m.\u001b[0m\u001b[0mshow_elements\u001b[0m\u001b[1;33m(\u001b[0m\u001b[1;33m)\u001b[0m\u001b[1;33m\u001b[0m\u001b[1;33m\u001b[0m\u001b[0m\n",
      "\u001b[1;32m<ipython-input-47-7f66634a70e4>\u001b[0m in \u001b[0;36mremove\u001b[1;34m(self, key)\u001b[0m\n\u001b[0;32m    144\u001b[0m \u001b[1;33m\u001b[0m\u001b[0m\n\u001b[0;32m    145\u001b[0m         \u001b[1;31m#unlinking the current node from linked list by updating prev_node next to current node next\u001b[0m\u001b[1;33m\u001b[0m\u001b[1;33m\u001b[0m\u001b[1;33m\u001b[0m\u001b[0m\n\u001b[1;32m--> 146\u001b[1;33m         \u001b[0mprev_node\u001b[0m\u001b[1;33m.\u001b[0m\u001b[0mnext\u001b[0m\u001b[1;33m=\u001b[0m\u001b[0mcurrent_node\u001b[0m\u001b[1;33m.\u001b[0m\u001b[0mnext\u001b[0m\u001b[1;33m\u001b[0m\u001b[1;33m\u001b[0m\u001b[0m\n\u001b[0m\u001b[0;32m    147\u001b[0m \u001b[1;33m\u001b[0m\u001b[0m\n\u001b[0;32m    148\u001b[0m         \u001b[1;32mreturn\u001b[0m \u001b[0mcurrent_node\u001b[0m\u001b[1;33m.\u001b[0m\u001b[0mdata\u001b[0m\u001b[1;31m#returning the key\u001b[0m\u001b[1;33m\u001b[0m\u001b[1;33m\u001b[0m\u001b[0m\n",
      "\u001b[1;31mAttributeError\u001b[0m: 'NoneType' object has no attribute 'next'"
     ]
    }
   ],
   "source": [
    "list2.remove(110)\n",
    "list2.show_elements()\n",
    "list2.remove(10)\n",
    "list2.show_elements()"
   ]
  },
  {
   "cell_type": "code",
   "execution_count": null,
   "metadata": {},
   "outputs": [],
   "source": [
    "list2.swapNodes(40,70)\n",
    "list2.show_elements()"
   ]
  },
  {
   "cell_type": "code",
   "execution_count": null,
   "metadata": {},
   "outputs": [],
   "source": []
  },
  {
   "cell_type": "code",
   "execution_count": null,
   "metadata": {},
   "outputs": [],
   "source": [
    "list2.insert(0,200)\n",
    "list2.show_elements()"
   ]
  },
  {
   "cell_type": "code",
   "execution_count": null,
   "metadata": {},
   "outputs": [],
   "source": [
    "list2.insert(4,400)\n",
    "list2.show_elements()"
   ]
  },
  {
   "cell_type": "code",
   "execution_count": null,
   "metadata": {},
   "outputs": [],
   "source": [
    "list2.reverse()\n",
    "list2.show_elements()"
   ]
  },
  {
   "cell_type": "code",
   "execution_count": null,
   "metadata": {},
   "outputs": [],
   "source": [
    "list2.update(12,110)"
   ]
  },
  {
   "cell_type": "code",
   "execution_count": null,
   "metadata": {},
   "outputs": [],
   "source": [
    "list2.show_elements()"
   ]
  },
  {
   "cell_type": "code",
   "execution_count": null,
   "metadata": {},
   "outputs": [],
   "source": [
    "print(list2.iter_item())\n",
    "print(list(list2.iter_item()))\n",
    "for val in list2.iter_item():\n",
    "    print(f\"{val}->\",end='')"
   ]
  },
  {
   "cell_type": "code",
   "execution_count": null,
   "metadata": {},
   "outputs": [],
   "source": [
    "from sys import getsizeof\n",
    "getsizeof(list2)"
   ]
  },
  {
   "cell_type": "code",
   "execution_count": null,
   "metadata": {},
   "outputs": [],
   "source": [
    "l=[2 ,5 ,9 ,8 ,15 ,20 ,2 ,1, 0]\n",
    "getsizeof(l)"
   ]
  },
  {
   "cell_type": "code",
   "execution_count": null,
   "metadata": {},
   "outputs": [],
   "source": []
  },
  {
   "cell_type": "code",
   "execution_count": null,
   "metadata": {},
   "outputs": [],
   "source": []
  }
 ],
 "metadata": {
  "kernelspec": {
   "name": "python394jvsc74a57bd0d33150c5c5aa98ec7c5986c561bbb4813c62742519f7b0e3fbb49f346b86f8e8",
   "display_name": "Python 3.9.4 64-bit"
  },
  "language_info": {
   "codemirror_mode": {
    "name": "ipython",
    "version": 3
   },
   "file_extension": ".py",
   "mimetype": "text/x-python",
   "name": "python",
   "nbconvert_exporter": "python",
   "pygments_lexer": "ipython3",
   "version": "3.9.4"
  },
  "metadata": {
   "interpreter": {
    "hash": "d33150c5c5aa98ec7c5986c561bbb4813c62742519f7b0e3fbb49f346b86f8e8"
   }
  }
 },
 "nbformat": 4,
 "nbformat_minor": 4
}